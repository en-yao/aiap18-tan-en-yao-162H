{
 "cells": [
  {
   "cell_type": "markdown",
   "id": "995c6736",
   "metadata": {},
   "source": [
    "### 1. Importing the required libraries for EDA\n",
    "Below are the libraries that are used in order to perform EDA (Exploratory data analysis)"
   ]
  },
  {
   "cell_type": "code",
   "execution_count": 1,
   "id": "466ca52c",
   "metadata": {},
   "outputs": [],
   "source": [
    "import sqlite3\n",
    "import pandas as pd\n",
    "import seaborn as sns\n",
    "import matplotlib.pylab as plt"
   ]
  },
  {
   "cell_type": "markdown",
   "id": "57bc1429",
   "metadata": {},
   "source": [
    "### 2. Loading the data into the data frame\n",
    "We first make a connection to the database and then use pandas to query from that database into a dataframe"
   ]
  },
  {
   "cell_type": "code",
   "execution_count": 2,
   "id": "cfa8176c",
   "metadata": {},
   "outputs": [
    {
     "data": {
      "text/html": [
       "<div>\n",
       "<style scoped>\n",
       "    .dataframe tbody tr th:only-of-type {\n",
       "        vertical-align: middle;\n",
       "    }\n",
       "\n",
       "    .dataframe tbody tr th {\n",
       "        vertical-align: top;\n",
       "    }\n",
       "\n",
       "    .dataframe thead th {\n",
       "        text-align: right;\n",
       "    }\n",
       "</style>\n",
       "<table border=\"1\" class=\"dataframe\">\n",
       "  <thead>\n",
       "    <tr style=\"text-align: right;\">\n",
       "      <th></th>\n",
       "      <th>ID</th>\n",
       "      <th>Call Duration</th>\n",
       "      <th>Call Frequency</th>\n",
       "      <th>Financial Loss</th>\n",
       "      <th>Flagged by Carrier</th>\n",
       "      <th>Is International</th>\n",
       "      <th>Previous Contact Count</th>\n",
       "      <th>Country Prefix</th>\n",
       "      <th>Call Type</th>\n",
       "      <th>Timestamp</th>\n",
       "      <th>Device Battery</th>\n",
       "      <th>Scam Call</th>\n",
       "    </tr>\n",
       "  </thead>\n",
       "  <tbody>\n",
       "    <tr>\n",
       "      <th>0</th>\n",
       "      <td>947429</td>\n",
       "      <td>-719</td>\n",
       "      <td>12</td>\n",
       "      <td>42.130000</td>\n",
       "      <td>Suspicious</td>\n",
       "      <td>Yes</td>\n",
       "      <td>1</td>\n",
       "      <td>95</td>\n",
       "      <td>Voip</td>\n",
       "      <td>2023-07-23 09:04:00</td>\n",
       "      <td>Fully Charged</td>\n",
       "      <td>Scam</td>\n",
       "    </tr>\n",
       "    <tr>\n",
       "      <th>1</th>\n",
       "      <td>540498</td>\n",
       "      <td>116</td>\n",
       "      <td>3</td>\n",
       "      <td>29.900000</td>\n",
       "      <td>Unlikely</td>\n",
       "      <td>Yes</td>\n",
       "      <td>0</td>\n",
       "      <td>91</td>\n",
       "      <td>Mobile</td>\n",
       "      <td>2023-09-05 20:11:00</td>\n",
       "      <td>Fully Charged</td>\n",
       "      <td>Scam</td>\n",
       "    </tr>\n",
       "    <tr>\n",
       "      <th>2</th>\n",
       "      <td>434243</td>\n",
       "      <td>29</td>\n",
       "      <td>16</td>\n",
       "      <td>723.460000</td>\n",
       "      <td>Very Suspicious</td>\n",
       "      <td>Yes</td>\n",
       "      <td>2</td>\n",
       "      <td>91</td>\n",
       "      <td>Voip</td>\n",
       "      <td>2023-12-16 11:03:00</td>\n",
       "      <td>Charging</td>\n",
       "      <td>Scam</td>\n",
       "    </tr>\n",
       "    <tr>\n",
       "      <th>3</th>\n",
       "      <td>903537</td>\n",
       "      <td>-563</td>\n",
       "      <td>4</td>\n",
       "      <td>64.287478</td>\n",
       "      <td>Unlikely</td>\n",
       "      <td>Yes</td>\n",
       "      <td>3</td>\n",
       "      <td>91</td>\n",
       "      <td>Telegram</td>\n",
       "      <td>2023-02-25 10:41:00</td>\n",
       "      <td>Fully Charged</td>\n",
       "      <td>Not Scam</td>\n",
       "    </tr>\n",
       "    <tr>\n",
       "      <th>4</th>\n",
       "      <td>969179</td>\n",
       "      <td>312</td>\n",
       "      <td>19</td>\n",
       "      <td>0.000000</td>\n",
       "      <td>Unlikely</td>\n",
       "      <td>Yes</td>\n",
       "      <td>0</td>\n",
       "      <td>91</td>\n",
       "      <td>Telegram</td>\n",
       "      <td>2023-11-10 15:53:00</td>\n",
       "      <td>Fully Charged</td>\n",
       "      <td>Scam</td>\n",
       "    </tr>\n",
       "  </tbody>\n",
       "</table>\n",
       "</div>"
      ],
      "text/plain": [
       "       ID  Call Duration  Call Frequency  Financial Loss Flagged by Carrier  \\\n",
       "0  947429           -719              12       42.130000         Suspicious   \n",
       "1  540498            116               3       29.900000           Unlikely   \n",
       "2  434243             29              16      723.460000    Very Suspicious   \n",
       "3  903537           -563               4       64.287478           Unlikely   \n",
       "4  969179            312              19        0.000000           Unlikely   \n",
       "\n",
       "  Is International  Previous Contact Count Country Prefix Call Type  \\\n",
       "0              Yes                       1             95      Voip   \n",
       "1              Yes                       0             91    Mobile   \n",
       "2              Yes                       2             91      Voip   \n",
       "3              Yes                       3             91  Telegram   \n",
       "4              Yes                       0             91  Telegram   \n",
       "\n",
       "             Timestamp Device Battery Scam Call  \n",
       "0  2023-07-23 09:04:00  Fully Charged      Scam  \n",
       "1  2023-09-05 20:11:00  Fully Charged      Scam  \n",
       "2  2023-12-16 11:03:00       Charging      Scam  \n",
       "3  2023-02-25 10:41:00  Fully Charged  Not Scam  \n",
       "4  2023-11-10 15:53:00  Fully Charged      Scam  "
      ]
     },
     "execution_count": 2,
     "metadata": {},
     "output_type": "execute_result"
    }
   ],
   "source": [
    "conn = sqlite3.connect('data/calls.db')\n",
    "df = pd.read_sql_query(\"SELECT * FROM calls\", conn)\n",
    "\n",
    "df.head()"
   ]
  },
  {
   "cell_type": "code",
   "execution_count": 3,
   "id": "1d8ae57c",
   "metadata": {},
   "outputs": [
    {
     "data": {
      "text/html": [
       "<div>\n",
       "<style scoped>\n",
       "    .dataframe tbody tr th:only-of-type {\n",
       "        vertical-align: middle;\n",
       "    }\n",
       "\n",
       "    .dataframe tbody tr th {\n",
       "        vertical-align: top;\n",
       "    }\n",
       "\n",
       "    .dataframe thead th {\n",
       "        text-align: right;\n",
       "    }\n",
       "</style>\n",
       "<table border=\"1\" class=\"dataframe\">\n",
       "  <thead>\n",
       "    <tr style=\"text-align: right;\">\n",
       "      <th></th>\n",
       "      <th>ID</th>\n",
       "      <th>Call Duration</th>\n",
       "      <th>Call Frequency</th>\n",
       "      <th>Financial Loss</th>\n",
       "      <th>Flagged by Carrier</th>\n",
       "      <th>Is International</th>\n",
       "      <th>Previous Contact Count</th>\n",
       "      <th>Country Prefix</th>\n",
       "      <th>Call Type</th>\n",
       "      <th>Timestamp</th>\n",
       "      <th>Device Battery</th>\n",
       "      <th>Scam Call</th>\n",
       "    </tr>\n",
       "  </thead>\n",
       "  <tbody>\n",
       "    <tr>\n",
       "      <th>11995</th>\n",
       "      <td>496033</td>\n",
       "      <td>116</td>\n",
       "      <td>15</td>\n",
       "      <td>NaN</td>\n",
       "      <td>Unlikely</td>\n",
       "      <td>Yes</td>\n",
       "      <td>4</td>\n",
       "      <td>7</td>\n",
       "      <td>Voip</td>\n",
       "      <td>2023-05-03 14:32:00</td>\n",
       "      <td>Fully Charged</td>\n",
       "      <td>Not Scam</td>\n",
       "    </tr>\n",
       "    <tr>\n",
       "      <th>11996</th>\n",
       "      <td>730960</td>\n",
       "      <td>621</td>\n",
       "      <td>3</td>\n",
       "      <td>11.74</td>\n",
       "      <td>Suspicious</td>\n",
       "      <td>Yes</td>\n",
       "      <td>0</td>\n",
       "      <td>MM</td>\n",
       "      <td>Landline</td>\n",
       "      <td>2023-08-04 00:16:00</td>\n",
       "      <td>Fully Charged</td>\n",
       "      <td>Scam</td>\n",
       "    </tr>\n",
       "    <tr>\n",
       "      <th>11997</th>\n",
       "      <td>806410</td>\n",
       "      <td>-27</td>\n",
       "      <td>4</td>\n",
       "      <td>102.45</td>\n",
       "      <td>Suspicious</td>\n",
       "      <td>Yes</td>\n",
       "      <td>0</td>\n",
       "      <td>MM</td>\n",
       "      <td>Voip</td>\n",
       "      <td>2024-03-22 01:31:00</td>\n",
       "      <td>Not Charging</td>\n",
       "      <td>Scam</td>\n",
       "    </tr>\n",
       "    <tr>\n",
       "      <th>11998</th>\n",
       "      <td>481032</td>\n",
       "      <td>-127</td>\n",
       "      <td>9</td>\n",
       "      <td>NaN</td>\n",
       "      <td>Unlikely</td>\n",
       "      <td>Yes</td>\n",
       "      <td>0</td>\n",
       "      <td>1</td>\n",
       "      <td>Landline</td>\n",
       "      <td>2023-07-11 17:04:00</td>\n",
       "      <td>Charging</td>\n",
       "      <td>Not Scam</td>\n",
       "    </tr>\n",
       "    <tr>\n",
       "      <th>11999</th>\n",
       "      <td>507774</td>\n",
       "      <td>505</td>\n",
       "      <td>4</td>\n",
       "      <td>0.00</td>\n",
       "      <td>Unlikely</td>\n",
       "      <td>Yes</td>\n",
       "      <td>5</td>\n",
       "      <td>44</td>\n",
       "      <td>Telegram</td>\n",
       "      <td>2024-02-13 00:33:00</td>\n",
       "      <td>Charging</td>\n",
       "      <td>Not Scam</td>\n",
       "    </tr>\n",
       "  </tbody>\n",
       "</table>\n",
       "</div>"
      ],
      "text/plain": [
       "           ID  Call Duration  Call Frequency  Financial Loss  \\\n",
       "11995  496033            116              15             NaN   \n",
       "11996  730960            621               3           11.74   \n",
       "11997  806410            -27               4          102.45   \n",
       "11998  481032           -127               9             NaN   \n",
       "11999  507774            505               4            0.00   \n",
       "\n",
       "      Flagged by Carrier Is International  Previous Contact Count  \\\n",
       "11995           Unlikely              Yes                       4   \n",
       "11996         Suspicious              Yes                       0   \n",
       "11997         Suspicious              Yes                       0   \n",
       "11998           Unlikely              Yes                       0   \n",
       "11999           Unlikely              Yes                       5   \n",
       "\n",
       "      Country Prefix Call Type            Timestamp Device Battery Scam Call  \n",
       "11995              7      Voip  2023-05-03 14:32:00  Fully Charged  Not Scam  \n",
       "11996             MM  Landline  2023-08-04 00:16:00  Fully Charged      Scam  \n",
       "11997             MM      Voip  2024-03-22 01:31:00   Not Charging      Scam  \n",
       "11998              1  Landline  2023-07-11 17:04:00       Charging  Not Scam  \n",
       "11999             44  Telegram  2024-02-13 00:33:00       Charging  Not Scam  "
      ]
     },
     "execution_count": 3,
     "metadata": {},
     "output_type": "execute_result"
    }
   ],
   "source": [
    "df.tail()"
   ]
  },
  {
   "cell_type": "markdown",
   "id": "c8d60943",
   "metadata": {},
   "source": [
    "### 3. Checking the types of data\n",
    "Here we check the datatypes because sometimes integer values, like in call duration or financial loss, would be stored as a string. If in that case, we have to convert that string to the integer data, only then we can plot the data via a graph."
   ]
  },
  {
   "cell_type": "code",
   "execution_count": 4,
   "id": "eec58c70",
   "metadata": {},
   "outputs": [
    {
     "data": {
      "text/plain": [
       "ID                          int64\n",
       "Call Duration               int64\n",
       "Call Frequency              int64\n",
       "Financial Loss            float64\n",
       "Flagged by Carrier         object\n",
       "Is International           object\n",
       "Previous Contact Count      int64\n",
       "Country Prefix             object\n",
       "Call Type                  object\n",
       "Timestamp                  object\n",
       "Device Battery             object\n",
       "Scam Call                  object\n",
       "dtype: object"
      ]
     },
     "execution_count": 4,
     "metadata": {},
     "output_type": "execute_result"
    }
   ],
   "source": [
    "df.dtypes"
   ]
  },
  {
   "cell_type": "markdown",
   "id": "ded02377",
   "metadata": {},
   "source": [
    "### 4. Dropping irrelevant columns\n",
    "Sometimes there would be columns that we never use in such cases dropping is the only solution. In this case, I found the columns Device Battery and Timestamp not useful so I just dropped that for this instance."
   ]
  },
  {
   "cell_type": "code",
   "execution_count": 5,
   "id": "8dbd3abf",
   "metadata": {},
   "outputs": [
    {
     "data": {
      "text/html": [
       "<div>\n",
       "<style scoped>\n",
       "    .dataframe tbody tr th:only-of-type {\n",
       "        vertical-align: middle;\n",
       "    }\n",
       "\n",
       "    .dataframe tbody tr th {\n",
       "        vertical-align: top;\n",
       "    }\n",
       "\n",
       "    .dataframe thead th {\n",
       "        text-align: right;\n",
       "    }\n",
       "</style>\n",
       "<table border=\"1\" class=\"dataframe\">\n",
       "  <thead>\n",
       "    <tr style=\"text-align: right;\">\n",
       "      <th></th>\n",
       "      <th>ID</th>\n",
       "      <th>Call Duration</th>\n",
       "      <th>Call Frequency</th>\n",
       "      <th>Financial Loss</th>\n",
       "      <th>Flagged by Carrier</th>\n",
       "      <th>Is International</th>\n",
       "      <th>Previous Contact Count</th>\n",
       "      <th>Country Prefix</th>\n",
       "      <th>Call Type</th>\n",
       "      <th>Scam Call</th>\n",
       "    </tr>\n",
       "  </thead>\n",
       "  <tbody>\n",
       "    <tr>\n",
       "      <th>0</th>\n",
       "      <td>947429</td>\n",
       "      <td>-719</td>\n",
       "      <td>12</td>\n",
       "      <td>42.130000</td>\n",
       "      <td>Suspicious</td>\n",
       "      <td>Yes</td>\n",
       "      <td>1</td>\n",
       "      <td>95</td>\n",
       "      <td>Voip</td>\n",
       "      <td>Scam</td>\n",
       "    </tr>\n",
       "    <tr>\n",
       "      <th>1</th>\n",
       "      <td>540498</td>\n",
       "      <td>116</td>\n",
       "      <td>3</td>\n",
       "      <td>29.900000</td>\n",
       "      <td>Unlikely</td>\n",
       "      <td>Yes</td>\n",
       "      <td>0</td>\n",
       "      <td>91</td>\n",
       "      <td>Mobile</td>\n",
       "      <td>Scam</td>\n",
       "    </tr>\n",
       "    <tr>\n",
       "      <th>2</th>\n",
       "      <td>434243</td>\n",
       "      <td>29</td>\n",
       "      <td>16</td>\n",
       "      <td>723.460000</td>\n",
       "      <td>Very Suspicious</td>\n",
       "      <td>Yes</td>\n",
       "      <td>2</td>\n",
       "      <td>91</td>\n",
       "      <td>Voip</td>\n",
       "      <td>Scam</td>\n",
       "    </tr>\n",
       "    <tr>\n",
       "      <th>3</th>\n",
       "      <td>903537</td>\n",
       "      <td>-563</td>\n",
       "      <td>4</td>\n",
       "      <td>64.287478</td>\n",
       "      <td>Unlikely</td>\n",
       "      <td>Yes</td>\n",
       "      <td>3</td>\n",
       "      <td>91</td>\n",
       "      <td>Telegram</td>\n",
       "      <td>Not Scam</td>\n",
       "    </tr>\n",
       "    <tr>\n",
       "      <th>4</th>\n",
       "      <td>969179</td>\n",
       "      <td>312</td>\n",
       "      <td>19</td>\n",
       "      <td>0.000000</td>\n",
       "      <td>Unlikely</td>\n",
       "      <td>Yes</td>\n",
       "      <td>0</td>\n",
       "      <td>91</td>\n",
       "      <td>Telegram</td>\n",
       "      <td>Scam</td>\n",
       "    </tr>\n",
       "  </tbody>\n",
       "</table>\n",
       "</div>"
      ],
      "text/plain": [
       "       ID  Call Duration  Call Frequency  Financial Loss Flagged by Carrier  \\\n",
       "0  947429           -719              12       42.130000         Suspicious   \n",
       "1  540498            116               3       29.900000           Unlikely   \n",
       "2  434243             29              16      723.460000    Very Suspicious   \n",
       "3  903537           -563               4       64.287478           Unlikely   \n",
       "4  969179            312              19        0.000000           Unlikely   \n",
       "\n",
       "  Is International  Previous Contact Count Country Prefix Call Type Scam Call  \n",
       "0              Yes                       1             95      Voip      Scam  \n",
       "1              Yes                       0             91    Mobile      Scam  \n",
       "2              Yes                       2             91      Voip      Scam  \n",
       "3              Yes                       3             91  Telegram  Not Scam  \n",
       "4              Yes                       0             91  Telegram      Scam  "
      ]
     },
     "execution_count": 5,
     "metadata": {},
     "output_type": "execute_result"
    }
   ],
   "source": [
    "df = df.drop(['Device Battery', 'Timestamp'], axis=1)\n",
    "df.head()"
   ]
  },
  {
   "cell_type": "markdown",
   "id": "13f7e8cf",
   "metadata": {},
   "source": [
    "### 5. Dropping the duplicate rows\n",
    "This can sometimes occur due to data entry errors, leading to redundant information. Hence the need to check for duplicates and remove them if any. In this case, we found 2000 duplicated rows and after removing them, we are left with 10000 rows."
   ]
  },
  {
   "cell_type": "code",
   "execution_count": 6,
   "id": "9953ef94",
   "metadata": {},
   "outputs": [
    {
     "data": {
      "text/plain": [
       "(12000, 10)"
      ]
     },
     "execution_count": 6,
     "metadata": {},
     "output_type": "execute_result"
    }
   ],
   "source": [
    "df.shape"
   ]
  },
  {
   "cell_type": "code",
   "execution_count": 7,
   "id": "10e7fa93",
   "metadata": {},
   "outputs": [
    {
     "name": "stdout",
     "output_type": "stream",
     "text": [
      "number of duplicate rows:  (2000, 10)\n"
     ]
    }
   ],
   "source": [
    "duplicate_rows_df = df[df.duplicated()]\n",
    "print(\"number of duplicate rows: \", duplicate_rows_df.shape)"
   ]
  },
  {
   "cell_type": "code",
   "execution_count": 8,
   "id": "3b0b37d9",
   "metadata": {},
   "outputs": [
    {
     "data": {
      "text/plain": [
       "ID                        12000\n",
       "Call Duration             12000\n",
       "Call Frequency            12000\n",
       "Financial Loss            10597\n",
       "Flagged by Carrier        12000\n",
       "Is International          12000\n",
       "Previous Contact Count    12000\n",
       "Country Prefix            12000\n",
       "Call Type                 12000\n",
       "Scam Call                 12000\n",
       "dtype: int64"
      ]
     },
     "execution_count": 8,
     "metadata": {},
     "output_type": "execute_result"
    }
   ],
   "source": [
    "df.count()"
   ]
  },
  {
   "cell_type": "code",
   "execution_count": 9,
   "id": "e09ff14a",
   "metadata": {},
   "outputs": [
    {
     "data": {
      "text/html": [
       "<div>\n",
       "<style scoped>\n",
       "    .dataframe tbody tr th:only-of-type {\n",
       "        vertical-align: middle;\n",
       "    }\n",
       "\n",
       "    .dataframe tbody tr th {\n",
       "        vertical-align: top;\n",
       "    }\n",
       "\n",
       "    .dataframe thead th {\n",
       "        text-align: right;\n",
       "    }\n",
       "</style>\n",
       "<table border=\"1\" class=\"dataframe\">\n",
       "  <thead>\n",
       "    <tr style=\"text-align: right;\">\n",
       "      <th></th>\n",
       "      <th>ID</th>\n",
       "      <th>Call Duration</th>\n",
       "      <th>Call Frequency</th>\n",
       "      <th>Financial Loss</th>\n",
       "      <th>Flagged by Carrier</th>\n",
       "      <th>Is International</th>\n",
       "      <th>Previous Contact Count</th>\n",
       "      <th>Country Prefix</th>\n",
       "      <th>Call Type</th>\n",
       "      <th>Scam Call</th>\n",
       "    </tr>\n",
       "  </thead>\n",
       "  <tbody>\n",
       "    <tr>\n",
       "      <th>0</th>\n",
       "      <td>947429</td>\n",
       "      <td>-719</td>\n",
       "      <td>12</td>\n",
       "      <td>42.130000</td>\n",
       "      <td>Suspicious</td>\n",
       "      <td>Yes</td>\n",
       "      <td>1</td>\n",
       "      <td>95</td>\n",
       "      <td>Voip</td>\n",
       "      <td>Scam</td>\n",
       "    </tr>\n",
       "    <tr>\n",
       "      <th>1</th>\n",
       "      <td>540498</td>\n",
       "      <td>116</td>\n",
       "      <td>3</td>\n",
       "      <td>29.900000</td>\n",
       "      <td>Unlikely</td>\n",
       "      <td>Yes</td>\n",
       "      <td>0</td>\n",
       "      <td>91</td>\n",
       "      <td>Mobile</td>\n",
       "      <td>Scam</td>\n",
       "    </tr>\n",
       "    <tr>\n",
       "      <th>2</th>\n",
       "      <td>434243</td>\n",
       "      <td>29</td>\n",
       "      <td>16</td>\n",
       "      <td>723.460000</td>\n",
       "      <td>Very Suspicious</td>\n",
       "      <td>Yes</td>\n",
       "      <td>2</td>\n",
       "      <td>91</td>\n",
       "      <td>Voip</td>\n",
       "      <td>Scam</td>\n",
       "    </tr>\n",
       "    <tr>\n",
       "      <th>3</th>\n",
       "      <td>903537</td>\n",
       "      <td>-563</td>\n",
       "      <td>4</td>\n",
       "      <td>64.287478</td>\n",
       "      <td>Unlikely</td>\n",
       "      <td>Yes</td>\n",
       "      <td>3</td>\n",
       "      <td>91</td>\n",
       "      <td>Telegram</td>\n",
       "      <td>Not Scam</td>\n",
       "    </tr>\n",
       "    <tr>\n",
       "      <th>4</th>\n",
       "      <td>969179</td>\n",
       "      <td>312</td>\n",
       "      <td>19</td>\n",
       "      <td>0.000000</td>\n",
       "      <td>Unlikely</td>\n",
       "      <td>Yes</td>\n",
       "      <td>0</td>\n",
       "      <td>91</td>\n",
       "      <td>Telegram</td>\n",
       "      <td>Scam</td>\n",
       "    </tr>\n",
       "  </tbody>\n",
       "</table>\n",
       "</div>"
      ],
      "text/plain": [
       "       ID  Call Duration  Call Frequency  Financial Loss Flagged by Carrier  \\\n",
       "0  947429           -719              12       42.130000         Suspicious   \n",
       "1  540498            116               3       29.900000           Unlikely   \n",
       "2  434243             29              16      723.460000    Very Suspicious   \n",
       "3  903537           -563               4       64.287478           Unlikely   \n",
       "4  969179            312              19        0.000000           Unlikely   \n",
       "\n",
       "  Is International  Previous Contact Count Country Prefix Call Type Scam Call  \n",
       "0              Yes                       1             95      Voip      Scam  \n",
       "1              Yes                       0             91    Mobile      Scam  \n",
       "2              Yes                       2             91      Voip      Scam  \n",
       "3              Yes                       3             91  Telegram  Not Scam  \n",
       "4              Yes                       0             91  Telegram      Scam  "
      ]
     },
     "execution_count": 9,
     "metadata": {},
     "output_type": "execute_result"
    }
   ],
   "source": [
    "df = df.drop_duplicates()\n",
    "df.head()"
   ]
  },
  {
   "cell_type": "code",
   "execution_count": 10,
   "id": "69818116",
   "metadata": {},
   "outputs": [
    {
     "data": {
      "text/plain": [
       "ID                        10000\n",
       "Call Duration             10000\n",
       "Call Frequency            10000\n",
       "Financial Loss             8865\n",
       "Flagged by Carrier        10000\n",
       "Is International          10000\n",
       "Previous Contact Count    10000\n",
       "Country Prefix            10000\n",
       "Call Type                 10000\n",
       "Scam Call                 10000\n",
       "dtype: int64"
      ]
     },
     "execution_count": 10,
     "metadata": {},
     "output_type": "execute_result"
    }
   ],
   "source": [
    "df.count()"
   ]
  },
  {
   "cell_type": "markdown",
   "id": "8df41adc",
   "metadata": {},
   "source": [
    "### 6. Replacing missing values with mean\n",
    "The missing values in Financial Loss has a significant percentage of about 11.3%, hence the best way to handle this is to replace the missing values with either the average, mode or median. In this case we shall replace the missing values with just the average."
   ]
  },
  {
   "cell_type": "code",
   "execution_count": 11,
   "id": "08b01a22",
   "metadata": {},
   "outputs": [
    {
     "data": {
      "text/plain": [
       "ID                           0\n",
       "Call Duration                0\n",
       "Call Frequency               0\n",
       "Financial Loss            1135\n",
       "Flagged by Carrier           0\n",
       "Is International             0\n",
       "Previous Contact Count       0\n",
       "Country Prefix               0\n",
       "Call Type                    0\n",
       "Scam Call                    0\n",
       "dtype: int64"
      ]
     },
     "execution_count": 11,
     "metadata": {},
     "output_type": "execute_result"
    }
   ],
   "source": [
    "df.isnull().sum()"
   ]
  },
  {
   "cell_type": "code",
   "execution_count": 12,
   "id": "6f0346ec",
   "metadata": {},
   "outputs": [],
   "source": [
    "df['Financial Loss'].fillna(df['Financial Loss'].mean(), inplace=True)"
   ]
  },
  {
   "cell_type": "code",
   "execution_count": 13,
   "id": "8bb073d0",
   "metadata": {},
   "outputs": [
    {
     "data": {
      "text/plain": [
       "ID                        0\n",
       "Call Duration             0\n",
       "Call Frequency            0\n",
       "Financial Loss            0\n",
       "Flagged by Carrier        0\n",
       "Is International          0\n",
       "Previous Contact Count    0\n",
       "Country Prefix            0\n",
       "Call Type                 0\n",
       "Scam Call                 0\n",
       "dtype: int64"
      ]
     },
     "execution_count": 13,
     "metadata": {},
     "output_type": "execute_result"
    }
   ],
   "source": [
    "df.isnull().sum()"
   ]
  },
  {
   "cell_type": "markdown",
   "id": "b3bd89a5",
   "metadata": {},
   "source": [
    "### 7. Dropping negative values\n",
    "Some negative values are present in Call Duration and Financial Loss. This may happen due to error in data entry but I do not expect negative values to be present in features like Call Duration and Financial Loss, hence I dropped them for this instance."
   ]
  },
  {
   "cell_type": "code",
   "execution_count": 14,
   "id": "b3bf5865",
   "metadata": {},
   "outputs": [
    {
     "data": {
      "text/html": [
       "<div>\n",
       "<style scoped>\n",
       "    .dataframe tbody tr th:only-of-type {\n",
       "        vertical-align: middle;\n",
       "    }\n",
       "\n",
       "    .dataframe tbody tr th {\n",
       "        vertical-align: top;\n",
       "    }\n",
       "\n",
       "    .dataframe thead th {\n",
       "        text-align: right;\n",
       "    }\n",
       "</style>\n",
       "<table border=\"1\" class=\"dataframe\">\n",
       "  <thead>\n",
       "    <tr style=\"text-align: right;\">\n",
       "      <th></th>\n",
       "      <th>ID</th>\n",
       "      <th>Call Duration</th>\n",
       "      <th>Call Frequency</th>\n",
       "      <th>Financial Loss</th>\n",
       "      <th>Previous Contact Count</th>\n",
       "    </tr>\n",
       "  </thead>\n",
       "  <tbody>\n",
       "    <tr>\n",
       "      <th>count</th>\n",
       "      <td>10000.000000</td>\n",
       "      <td>10000.000000</td>\n",
       "      <td>10000.000000</td>\n",
       "      <td>10000.000000</td>\n",
       "      <td>10000.000000</td>\n",
       "    </tr>\n",
       "    <tr>\n",
       "      <th>mean</th>\n",
       "      <td>549171.604600</td>\n",
       "      <td>112.394100</td>\n",
       "      <td>10.653800</td>\n",
       "      <td>98.497338</td>\n",
       "      <td>1.855000</td>\n",
       "    </tr>\n",
       "    <tr>\n",
       "      <th>std</th>\n",
       "      <td>258983.069885</td>\n",
       "      <td>284.370395</td>\n",
       "      <td>5.841212</td>\n",
       "      <td>182.971058</td>\n",
       "      <td>1.769545</td>\n",
       "    </tr>\n",
       "    <tr>\n",
       "      <th>min</th>\n",
       "      <td>100017.000000</td>\n",
       "      <td>-787.000000</td>\n",
       "      <td>2.000000</td>\n",
       "      <td>-896.400000</td>\n",
       "      <td>0.000000</td>\n",
       "    </tr>\n",
       "    <tr>\n",
       "      <th>25%</th>\n",
       "      <td>328241.750000</td>\n",
       "      <td>9.000000</td>\n",
       "      <td>6.000000</td>\n",
       "      <td>0.000000</td>\n",
       "      <td>0.000000</td>\n",
       "    </tr>\n",
       "    <tr>\n",
       "      <th>50%</th>\n",
       "      <td>542268.500000</td>\n",
       "      <td>47.000000</td>\n",
       "      <td>9.000000</td>\n",
       "      <td>30.880723</td>\n",
       "      <td>1.000000</td>\n",
       "    </tr>\n",
       "    <tr>\n",
       "      <th>75%</th>\n",
       "      <td>777904.500000</td>\n",
       "      <td>288.000000</td>\n",
       "      <td>15.000000</td>\n",
       "      <td>98.497338</td>\n",
       "      <td>3.000000</td>\n",
       "    </tr>\n",
       "    <tr>\n",
       "      <th>max</th>\n",
       "      <td>999709.000000</td>\n",
       "      <td>822.000000</td>\n",
       "      <td>27.000000</td>\n",
       "      <td>1055.440000</td>\n",
       "      <td>8.000000</td>\n",
       "    </tr>\n",
       "  </tbody>\n",
       "</table>\n",
       "</div>"
      ],
      "text/plain": [
       "                  ID  Call Duration  Call Frequency  Financial Loss  \\\n",
       "count   10000.000000   10000.000000    10000.000000    10000.000000   \n",
       "mean   549171.604600     112.394100       10.653800       98.497338   \n",
       "std    258983.069885     284.370395        5.841212      182.971058   \n",
       "min    100017.000000    -787.000000        2.000000     -896.400000   \n",
       "25%    328241.750000       9.000000        6.000000        0.000000   \n",
       "50%    542268.500000      47.000000        9.000000       30.880723   \n",
       "75%    777904.500000     288.000000       15.000000       98.497338   \n",
       "max    999709.000000     822.000000       27.000000     1055.440000   \n",
       "\n",
       "       Previous Contact Count  \n",
       "count            10000.000000  \n",
       "mean                 1.855000  \n",
       "std                  1.769545  \n",
       "min                  0.000000  \n",
       "25%                  0.000000  \n",
       "50%                  1.000000  \n",
       "75%                  3.000000  \n",
       "max                  8.000000  "
      ]
     },
     "execution_count": 14,
     "metadata": {},
     "output_type": "execute_result"
    }
   ],
   "source": [
    "df.describe()"
   ]
  },
  {
   "cell_type": "code",
   "execution_count": 15,
   "id": "13fbe7a5",
   "metadata": {},
   "outputs": [
    {
     "data": {
      "text/plain": [
       "(10000, 10)"
      ]
     },
     "execution_count": 15,
     "metadata": {},
     "output_type": "execute_result"
    }
   ],
   "source": [
    "df.shape"
   ]
  },
  {
   "cell_type": "code",
   "execution_count": 16,
   "id": "f657b147",
   "metadata": {},
   "outputs": [],
   "source": [
    "df = df[(df[['Call Duration', 'Financial Loss']] >= 0).all(axis=1)]"
   ]
  },
  {
   "cell_type": "code",
   "execution_count": 17,
   "id": "4ee1a12a",
   "metadata": {},
   "outputs": [
    {
     "data": {
      "text/plain": [
       "(7334, 10)"
      ]
     },
     "execution_count": 17,
     "metadata": {},
     "output_type": "execute_result"
    }
   ],
   "source": [
    "df.shape"
   ]
  },
  {
   "cell_type": "markdown",
   "id": "e14158cb",
   "metadata": {},
   "source": [
    "### 8. Checking Category Uniqueness\n",
    "We check for category uniqueness because sometimes two or more categories can actually be the same. If so, we combine the categories to avoid misrepresentation of the data. In this case, columns Country Prefix and Call Type each have two categories which are in fact the same but are just spelt or represented differently."
   ]
  },
  {
   "cell_type": "markdown",
   "id": "3fe6a35b",
   "metadata": {},
   "source": [
    "- In Country Prefix, there is a category MM which does not fit the rest of the categories but turns out that is the country code for Myanmar. It just so happens that the Maynmar dialing code is 95, which is one of the categories.\n",
    "\n",
    "- In Call Type, WhatsApp and Whats App represent 2 different categories when they should be 1"
   ]
  },
  {
   "cell_type": "code",
   "execution_count": 18,
   "id": "c01bf677",
   "metadata": {},
   "outputs": [
    {
     "data": {
      "text/plain": [
       "array(['91', '65', '95', '1', '44', 'MM', '7'], dtype=object)"
      ]
     },
     "execution_count": 18,
     "metadata": {},
     "output_type": "execute_result"
    }
   ],
   "source": [
    "df['Country Prefix'].unique()"
   ]
  },
  {
   "cell_type": "code",
   "execution_count": 19,
   "id": "7788ac39",
   "metadata": {},
   "outputs": [
    {
     "data": {
      "text/plain": [
       "array(['Mobile', 'Voip', 'Telegram', 'Landline', 'Whats App', 'WhatsApp'],\n",
       "      dtype=object)"
      ]
     },
     "execution_count": 19,
     "metadata": {},
     "output_type": "execute_result"
    }
   ],
   "source": [
    "df['Call Type'].unique()"
   ]
  },
  {
   "cell_type": "code",
   "execution_count": 20,
   "id": "e90b7942",
   "metadata": {},
   "outputs": [],
   "source": [
    "df['Country Prefix'] = df['Country Prefix'].replace('MM', '95')\n",
    "df['Call Type'] = df['Call Type'].replace('Whats App', 'WhatsApp')"
   ]
  },
  {
   "cell_type": "code",
   "execution_count": 21,
   "id": "802b9232",
   "metadata": {},
   "outputs": [
    {
     "data": {
      "text/plain": [
       "array(['91', '65', '95', '1', '44', '7'], dtype=object)"
      ]
     },
     "execution_count": 21,
     "metadata": {},
     "output_type": "execute_result"
    }
   ],
   "source": [
    "df['Country Prefix'].unique()"
   ]
  },
  {
   "cell_type": "code",
   "execution_count": 22,
   "id": "a7b4baaf",
   "metadata": {},
   "outputs": [
    {
     "data": {
      "text/plain": [
       "array(['Mobile', 'Voip', 'Telegram', 'Landline', 'WhatsApp'], dtype=object)"
      ]
     },
     "execution_count": 22,
     "metadata": {},
     "output_type": "execute_result"
    }
   ],
   "source": [
    "df['Call Type'].unique()"
   ]
  },
  {
   "cell_type": "markdown",
   "id": "6b8616b9",
   "metadata": {},
   "source": [
    "### 9. Plotting histograms, distribution graphs and pairplots\n",
    "\n",
    "#### Histograms and Distribution graphs\n",
    "Also known as univariate analysis, we examine each feature and look into the distributions, patterns, and characteristics before exploring relationships with other variables"
   ]
  },
  {
   "cell_type": "code",
   "execution_count": 23,
   "id": "145dad45",
   "metadata": {},
   "outputs": [],
   "source": [
    "num_cols = ['Call Duration', 'Call Frequency', 'Financial Loss', 'Previous Contact Count']\n",
    "cat_cols = ['Flagged by Carrier', 'Is International', 'Country Prefix', 'Call Type', 'Scam Call']\n",
    "\n",
    "def plot_num(num_cols):\n",
    "    for col in num_cols:\n",
    "        df[col].plot(kind='kde', title=col)\n",
    "        plt.show()\n",
    "        \n",
    "def plot_cat(cat_cols):\n",
    "    for col in cat_cols:\n",
    "        ax = df[col].value_counts().plot(kind='bar', title=col)\n",
    "        ax.set_ylabel('Count')\n",
    "        plt.show()"
   ]
  },
  {
   "cell_type": "markdown",
   "id": "e1a51bf1",
   "metadata": {},
   "source": [
    "Numerical features are observed to generally have a right skewed distribution"
   ]
  },
  {
   "cell_type": "code",
   "execution_count": 24,
   "id": "b4b3c704",
   "metadata": {
    "scrolled": false
   },
   "outputs": [
    {
     "data": {
      "image/png": "[encoded data removed]",
      "text/plain": [
       "<Figure size 640x480 with 1 Axes>"
      ]
     },
     "metadata": {},
     "output_type": "display_data"
    },
    {
     "data": {
      "image/png": "[encoded data removed]",
      "text/plain": [
       "<Figure size 640x480 with 1 Axes>"
      ]
     },
     "metadata": {},
     "output_type": "display_data"
    },
    {
     "data": {
      "image/png": "[encoded data removed]",
      "text/plain": [
       "<Figure size 640x480 with 1 Axes>"
      ]
     },
     "metadata": {},
     "output_type": "display_data"
    },
    {
     "data": {
      "image/png": "[encoded data removed]",
      "text/plain": [
       "<Figure size 640x480 with 1 Axes>"
      ]
     },
     "metadata": {},
     "output_type": "display_data"
    }
   ],
   "source": [
    "# plotting kernel density estimators for the numerical features\n",
    "plot_num(num_cols)"
   ]
  },
  {
   "cell_type": "markdown",
   "id": "75d77ec3",
   "metadata": {},
   "source": [
    "- Categories are generally evenly balanced with the exception of those from Flagged by Carrier and Is International. We especially have to look for imbalance in Scam Call as it affects the accuracy of predicted values. A high imbalance would mean that a randomly selected point is very likely to be classified as the majority class and will have little different from using a model with a high accuracy."
   ]
  },
  {
   "cell_type": "code",
   "execution_count": 25,
   "id": "d8c7cbbb",
   "metadata": {
    "scrolled": false
   },
   "outputs": [
    {
     "data": {
      "image/png": "[encoded data removed]",
      "text/plain": [
       "<Figure size 640x480 with 1 Axes>"
      ]
     },
     "metadata": {},
     "output_type": "display_data"
    },
    {
     "data": {
      "image/png": "[encoded data removed]",
      "text/plain": [
       "<Figure size 640x480 with 1 Axes>"
      ]
     },
     "metadata": {},
     "output_type": "display_data"
    },
    {
     "data": {
      "image/png": "[encoded data removed]",
      "text/plain": [
       "<Figure size 640x480 with 1 Axes>"
      ]
     },
     "metadata": {},
     "output_type": "display_data"
    },
    {
     "data": {
      "image/png": "[encoded data removed]",
      "text/plain": [
       "<Figure size 640x480 with 1 Axes>"
      ]
     },
     "metadata": {},
     "output_type": "display_data"
    },
    {
     "data": {
      "image/png": "[encoded data removed]",
      "text/plain": [
       "<Figure size 640x480 with 1 Axes>"
      ]
     },
     "metadata": {},
     "output_type": "display_data"
    }
   ],
   "source": [
    "# plotting histograms for the categorical features\n",
    "plot_cat(cat_cols)"
   ]
  },
  {
   "cell_type": "markdown",
   "id": "b71e485a",
   "metadata": {},
   "source": [
    "#### Pairplot \n",
    "Pairplots enable us to observe how variables interact with one another and understand correlations and dependencies. From the pairplot with the Scam Call hue, it is clear that we are unable to perform linear classification on the dataset. Instead, we will have to consider classfication methods that involve strategies like kernel tricks and ensemble classifiers to improve classification performance."
   ]
  },
  {
   "cell_type": "code",
   "execution_count": 26,
   "id": "4193966c",
   "metadata": {},
   "outputs": [],
   "source": [
    "def plot_pairplot(cat_cols):\n",
    "    for col in cat_cols:\n",
    "        pp = sns.pairplot(df, vars=num_cols, hue=col)\n",
    "        pp.fig.suptitle(f'Pairplot with {col} hue', y=1.05)\n",
    "        plt.show()"
   ]
  },
  {
   "cell_type": "code",
   "execution_count": null,
   "id": "93b97bf1",
   "metadata": {
    "scrolled": false
   },
   "outputs": [],
   "source": [
    "plot_pairplot(cat_cols)"
   ]
  },
  {
   "cell_type": "code",
   "execution_count": null,
   "id": "f2507258",
   "metadata": {},
   "outputs": [],
   "source": []
  }
 ],
 "metadata": {
  "kernelspec": {
   "display_name": "Python 3 (ipykernel)",
   "language": "python",
   "name": "python3"
  },
  "language_info": {
   "codemirror_mode": {
    "name": "ipython",
    "version": 3
   },
   "file_extension": ".py",
   "mimetype": "text/x-python",
   "name": "python",
   "nbconvert_exporter": "python",
   "pygments_lexer": "ipython3",
   "version": "3.9.13"
  }
 },
 "nbformat": 4,
 "nbformat_minor": 5
}
